{
 "cells": [
  {
   "cell_type": "markdown",
   "metadata": {},
   "source": [
    "# Segmenting and Clustering Neighborhoods in Toronto"
   ]
  },
  {
   "cell_type": "markdown",
   "metadata": {},
   "source": [
    "Set up dependencies"
   ]
  },
  {
   "cell_type": "code",
   "execution_count": 1,
   "metadata": {},
   "outputs": [
    {
     "name": "stdout",
     "output_type": "stream",
     "text": [
      "Libraries imported.\n"
     ]
    }
   ],
   "source": [
    "import numpy as np # library to handle data in a vectorized manner\n",
    "\n",
    "import pandas as pd # library for data analysis\n",
    "pd.set_option('display.max_columns', None)\n",
    "pd.set_option('display.max_rows', None)\n",
    "\n",
    "import json # library to handle JSON files\n",
    "\n",
    "#!conda install -c conda-forge geopy --yes \n",
    "from geopy.geocoders import Nominatim # convert an address into latitude and longitude values\n",
    "\n",
    "import requests # library to handle requests\n",
    "from pandas.io.json import json_normalize # tranform JSON file into a pandas dataframe\n",
    "\n",
    "# Matplotlib and associated plotting modules\n",
    "import matplotlib.cm as cm\n",
    "import matplotlib.colors as colors\n",
    "\n",
    "# import k-means from clustering stage\n",
    "from sklearn.cluster import KMeans\n",
    "\n",
    "#!conda install -c conda-forge folium=0.5.0 --yes\n",
    "import folium # map rendering library\n",
    "\n",
    "import requests # library to fetch URLs\n",
    "\n",
    "from bs4 import BeautifulSoup # library to scrape data from a webpage\n",
    "\n",
    "print('Libraries imported.')"
   ]
  },
  {
   "cell_type": "markdown",
   "metadata": {},
   "source": [
    "# Load Data\n"
   ]
  },
  {
   "cell_type": "markdown",
   "metadata": {},
   "source": [
    "## Scrape Postal Codes from Wikipedia\n",
    "Scrape the postal codes table from this Wikipedia page:\n",
    "https://en.wikipedia.org/wiki/List_of_postal_codes_of_Canada:_M\n",
    "\n",
    "<i>\"This is a list of postal codes in Canada where the first letter is M. Postal codes beginning with M are located within the city of Toronto in the province of Ontario. Only the first three characters are listed, corresponding to the Forward Sortation Area.\"</i>\n"
   ]
  },
  {
   "cell_type": "code",
   "execution_count": 2,
   "metadata": {},
   "outputs": [
    {
     "name": "stdout",
     "output_type": "stream",
     "text": [
      "Data downloaded from: https://en.wikipedia.org/wiki/List_of_postal_codes_of_Canada:_M\n"
     ]
    }
   ],
   "source": [
    "url = 'https://en.wikipedia.org/wiki/List_of_postal_codes_of_Canada:_M'\n",
    "\n",
    "response = requests.get(url)\n",
    "if response.status_code != 200:\n",
    "    print('Failed to get data:', response.status_code)\n",
    "else:\n",
    "    print(f'Data downloaded from: {url}')\n"
   ]
  },
  {
   "cell_type": "code",
   "execution_count": 3,
   "metadata": {},
   "outputs": [
    {
     "data": {
      "text/html": [
       "<div>\n",
       "<style scoped>\n",
       "    .dataframe tbody tr th:only-of-type {\n",
       "        vertical-align: middle;\n",
       "    }\n",
       "\n",
       "    .dataframe tbody tr th {\n",
       "        vertical-align: top;\n",
       "    }\n",
       "\n",
       "    .dataframe thead th {\n",
       "        text-align: right;\n",
       "    }\n",
       "</style>\n",
       "<table border=\"1\" class=\"dataframe\">\n",
       "  <thead>\n",
       "    <tr style=\"text-align: right;\">\n",
       "      <th></th>\n",
       "      <th>Postcode</th>\n",
       "      <th>Borough</th>\n",
       "      <th>Neighbourhood</th>\n",
       "    </tr>\n",
       "  </thead>\n",
       "  <tbody>\n",
       "    <tr>\n",
       "      <th>0</th>\n",
       "      <td>M1A</td>\n",
       "      <td>Not assigned</td>\n",
       "      <td>Not assigned</td>\n",
       "    </tr>\n",
       "    <tr>\n",
       "      <th>1</th>\n",
       "      <td>M2A</td>\n",
       "      <td>Not assigned</td>\n",
       "      <td>Not assigned</td>\n",
       "    </tr>\n",
       "    <tr>\n",
       "      <th>2</th>\n",
       "      <td>M3A</td>\n",
       "      <td>North York</td>\n",
       "      <td>Parkwoods</td>\n",
       "    </tr>\n",
       "    <tr>\n",
       "      <th>3</th>\n",
       "      <td>M4A</td>\n",
       "      <td>North York</td>\n",
       "      <td>Victoria Village</td>\n",
       "    </tr>\n",
       "    <tr>\n",
       "      <th>4</th>\n",
       "      <td>M5A</td>\n",
       "      <td>Downtown Toronto</td>\n",
       "      <td>Harbourfront</td>\n",
       "    </tr>\n",
       "  </tbody>\n",
       "</table>\n",
       "</div>"
      ],
      "text/plain": [
       "  Postcode           Borough     Neighbourhood\n",
       "0      M1A      Not assigned      Not assigned\n",
       "1      M2A      Not assigned      Not assigned\n",
       "2      M3A        North York         Parkwoods\n",
       "3      M4A        North York  Victoria Village\n",
       "4      M5A  Downtown Toronto      Harbourfront"
      ]
     },
     "execution_count": 3,
     "metadata": {},
     "output_type": "execute_result"
    }
   ],
   "source": [
    "soup = BeautifulSoup(response.text, 'html.parser')\n",
    "table = soup.find(\"table\", {\"class\":\"wikitable sortable\"})\n",
    "df = pd.read_html(str(table),header=0)[0]\n",
    "df.head()"
   ]
  },
  {
   "cell_type": "markdown",
   "metadata": {},
   "source": [
    "## Clean up the postal code dataframe"
   ]
  },
  {
   "cell_type": "code",
   "execution_count": 4,
   "metadata": {},
   "outputs": [
    {
     "name": "stdout",
     "output_type": "stream",
     "text": [
      "Removed 77 rows with unassigned boroughs.\n",
      "As expected, there is only one borough in each postcode. Yay!\n",
      "1 rows with unassigned neighbourhoods (now assigned to borough).\n",
      "Collapsed 108 duplicated postcodes into single rows.\n",
      "\n",
      "\n",
      "  Postcode      Borough                           Neighbourhood\n",
      "0      M1B  Scarborough                          Rouge, Malvern\n",
      "1      M1C  Scarborough  Highland Creek, Rouge Hill, Port Union\n",
      "2      M1E  Scarborough       Guildwood, Morningside, West Hill\n",
      "3      M1G  Scarborough                                  Woburn\n",
      "4      M1H  Scarborough                               Cedarbrae\n"
     ]
    }
   ],
   "source": [
    "# Remove unassigned boroughs\n",
    "n = df.shape[0]\n",
    "df = df.loc[df['Borough']!='Not assigned',:]\n",
    "print(f'Removed {n-df.shape[0]:,} rows with unassigned boroughs.')\n",
    "del n\n",
    "\n",
    "# Check if a postcode can have more than one borough:\n",
    "if np.max(df.groupby('Postcode')['Borough'].nunique())==1:\n",
    "    print('As expected, there is only one borough in each postcode. Yay!')\n",
    "else:\n",
    "    print('Watch out! There is at least one postcode with multiple distinct boroughs...')\n",
    "\n",
    "# Give unassigned neighborhoods the name of their borough\n",
    "n = sum(df['Neighbourhood']=='Not assigned')\n",
    "print(f'{n:,} rows with unassigned neighbourhoods (now assigned to borough).')\n",
    "del n\n",
    "\n",
    "df.loc[df['Neighbourhood']=='Not assigned','Neighbourhood']=df['Borough']\n",
    "\n",
    "# Combine multiple rows for a given postcode into one comma-separated list of neighbourhoods\n",
    "n = df.shape[0]\n",
    "df=df.groupby(['Postcode','Borough'])['Neighbourhood'].apply(', '.join).reset_index()\n",
    "print(f'Collapsed {n-df.shape[0]:,} duplicated postcodes into single rows.')\n",
    "del n\n",
    "print('\\n')\n",
    "print(df.head())"
   ]
  },
  {
   "cell_type": "code",
   "execution_count": 5,
   "metadata": {},
   "outputs": [
    {
     "name": "stdout",
     "output_type": "stream",
     "text": [
      "The cleaned dataframe has 103 total rows, making up the following buroughs:\n",
      "North York          24\n",
      "Downtown Toronto    18\n",
      "Scarborough         17\n",
      "Etobicoke           12\n",
      "Central Toronto      9\n",
      "West Toronto         6\n",
      "York                 5\n",
      "East Toronto         5\n",
      "East York            5\n",
      "Queen's Park         1\n",
      "Mississauga          1\n",
      "Name: Borough, dtype: int64\n"
     ]
    }
   ],
   "source": [
    "print(f'The cleaned dataframe has {df.shape[0]:,} total rows, making up the following buroughs:')\n",
    "print(df['Borough'].value_counts())"
   ]
  },
  {
   "cell_type": "markdown",
   "metadata": {},
   "source": [
    "<b>In the last cell of the notebook, use the .shape method to print the number of rows in the dataframe:</b>"
   ]
  },
  {
   "cell_type": "code",
   "execution_count": 6,
   "metadata": {},
   "outputs": [
    {
     "name": "stdout",
     "output_type": "stream",
     "text": [
      "103\n"
     ]
    }
   ],
   "source": [
    "print(df.shape[0])"
   ]
  },
  {
   "cell_type": "markdown",
   "metadata": {},
   "source": [
    "## Get Latitude and Longitude Coordinates"
   ]
  },
  {
   "cell_type": "code",
   "execution_count": 7,
   "metadata": {},
   "outputs": [
    {
     "name": "stdout",
     "output_type": "stream",
     "text": [
      "Data downloaded from: https://cocl.us/Geospatial_data\n"
     ]
    },
    {
     "data": {
      "text/html": [
       "<div>\n",
       "<style scoped>\n",
       "    .dataframe tbody tr th:only-of-type {\n",
       "        vertical-align: middle;\n",
       "    }\n",
       "\n",
       "    .dataframe tbody tr th {\n",
       "        vertical-align: top;\n",
       "    }\n",
       "\n",
       "    .dataframe thead th {\n",
       "        text-align: right;\n",
       "    }\n",
       "</style>\n",
       "<table border=\"1\" class=\"dataframe\">\n",
       "  <thead>\n",
       "    <tr style=\"text-align: right;\">\n",
       "      <th></th>\n",
       "      <th>Postal Code</th>\n",
       "      <th>Latitude</th>\n",
       "      <th>Longitude</th>\n",
       "    </tr>\n",
       "  </thead>\n",
       "  <tbody>\n",
       "    <tr>\n",
       "      <th>0</th>\n",
       "      <td>M1B</td>\n",
       "      <td>43.806686</td>\n",
       "      <td>-79.194353</td>\n",
       "    </tr>\n",
       "    <tr>\n",
       "      <th>1</th>\n",
       "      <td>M1C</td>\n",
       "      <td>43.784535</td>\n",
       "      <td>-79.160497</td>\n",
       "    </tr>\n",
       "    <tr>\n",
       "      <th>2</th>\n",
       "      <td>M1E</td>\n",
       "      <td>43.763573</td>\n",
       "      <td>-79.188711</td>\n",
       "    </tr>\n",
       "    <tr>\n",
       "      <th>3</th>\n",
       "      <td>M1G</td>\n",
       "      <td>43.770992</td>\n",
       "      <td>-79.216917</td>\n",
       "    </tr>\n",
       "    <tr>\n",
       "      <th>4</th>\n",
       "      <td>M1H</td>\n",
       "      <td>43.773136</td>\n",
       "      <td>-79.239476</td>\n",
       "    </tr>\n",
       "  </tbody>\n",
       "</table>\n",
       "</div>"
      ],
      "text/plain": [
       "  Postal Code   Latitude  Longitude\n",
       "0         M1B  43.806686 -79.194353\n",
       "1         M1C  43.784535 -79.160497\n",
       "2         M1E  43.763573 -79.188711\n",
       "3         M1G  43.770992 -79.216917\n",
       "4         M1H  43.773136 -79.239476"
      ]
     },
     "execution_count": 7,
     "metadata": {},
     "output_type": "execute_result"
    }
   ],
   "source": [
    "# Download csv from course website\n",
    "url = 'https://cocl.us/Geospatial_data'\n",
    "lat_lng_coords = pd.read_csv('https://cocl.us/Geospatial_data')\n",
    "print(f'Data downloaded from: {url}')\n",
    "\n",
    "lat_lng_coords.head()"
   ]
  },
  {
   "cell_type": "code",
   "execution_count": 8,
   "metadata": {},
   "outputs": [
    {
     "name": "stdout",
     "output_type": "stream",
     "text": [
      "Merge results:\n",
      "both          103\n",
      "right_only      0\n",
      "left_only       0\n",
      "Name: _merge, dtype: int64\n"
     ]
    }
   ],
   "source": [
    "# Combine the two dataframes to create the specified dataframe for this assignment\n",
    "toronto_df = pd.merge(\n",
    "    left=df, right=lat_lng_coords,\n",
    "    left_on='Postcode',right_on='Postal Code',\n",
    "    how='left', validate='1:1', indicator=True)\n",
    "\n",
    "# Confirm that all of the postal codes matched to a latitude/longitude coordinate\n",
    "print('Merge results:')\n",
    "print(toronto_df['_merge'].value_counts())\n",
    "\n",
    "# Adjust the column names to match the assignment\n",
    "toronto_df.drop(['Postal Code','_merge'],axis=1,inplace=True)\n",
    "toronto_df.rename(columns={'Postcode':'PostalCode','Neighbourhood':'Neighborhood'},inplace=True)"
   ]
  },
  {
   "cell_type": "markdown",
   "metadata": {},
   "source": [
    "<b>Display the first 15 lines of the dataframe.</b>"
   ]
  },
  {
   "cell_type": "code",
   "execution_count": 9,
   "metadata": {},
   "outputs": [
    {
     "data": {
      "text/html": [
       "<div>\n",
       "<style scoped>\n",
       "    .dataframe tbody tr th:only-of-type {\n",
       "        vertical-align: middle;\n",
       "    }\n",
       "\n",
       "    .dataframe tbody tr th {\n",
       "        vertical-align: top;\n",
       "    }\n",
       "\n",
       "    .dataframe thead th {\n",
       "        text-align: right;\n",
       "    }\n",
       "</style>\n",
       "<table border=\"1\" class=\"dataframe\">\n",
       "  <thead>\n",
       "    <tr style=\"text-align: right;\">\n",
       "      <th></th>\n",
       "      <th>PostalCode</th>\n",
       "      <th>Borough</th>\n",
       "      <th>Neighborhood</th>\n",
       "      <th>Latitude</th>\n",
       "      <th>Longitude</th>\n",
       "    </tr>\n",
       "  </thead>\n",
       "  <tbody>\n",
       "    <tr>\n",
       "      <th>0</th>\n",
       "      <td>M1B</td>\n",
       "      <td>Scarborough</td>\n",
       "      <td>Rouge, Malvern</td>\n",
       "      <td>43.806686</td>\n",
       "      <td>-79.194353</td>\n",
       "    </tr>\n",
       "    <tr>\n",
       "      <th>1</th>\n",
       "      <td>M1C</td>\n",
       "      <td>Scarborough</td>\n",
       "      <td>Highland Creek, Rouge Hill, Port Union</td>\n",
       "      <td>43.784535</td>\n",
       "      <td>-79.160497</td>\n",
       "    </tr>\n",
       "    <tr>\n",
       "      <th>2</th>\n",
       "      <td>M1E</td>\n",
       "      <td>Scarborough</td>\n",
       "      <td>Guildwood, Morningside, West Hill</td>\n",
       "      <td>43.763573</td>\n",
       "      <td>-79.188711</td>\n",
       "    </tr>\n",
       "    <tr>\n",
       "      <th>3</th>\n",
       "      <td>M1G</td>\n",
       "      <td>Scarborough</td>\n",
       "      <td>Woburn</td>\n",
       "      <td>43.770992</td>\n",
       "      <td>-79.216917</td>\n",
       "    </tr>\n",
       "    <tr>\n",
       "      <th>4</th>\n",
       "      <td>M1H</td>\n",
       "      <td>Scarborough</td>\n",
       "      <td>Cedarbrae</td>\n",
       "      <td>43.773136</td>\n",
       "      <td>-79.239476</td>\n",
       "    </tr>\n",
       "    <tr>\n",
       "      <th>5</th>\n",
       "      <td>M1J</td>\n",
       "      <td>Scarborough</td>\n",
       "      <td>Scarborough Village</td>\n",
       "      <td>43.744734</td>\n",
       "      <td>-79.239476</td>\n",
       "    </tr>\n",
       "    <tr>\n",
       "      <th>6</th>\n",
       "      <td>M1K</td>\n",
       "      <td>Scarborough</td>\n",
       "      <td>East Birchmount Park, Ionview, Kennedy Park</td>\n",
       "      <td>43.727929</td>\n",
       "      <td>-79.262029</td>\n",
       "    </tr>\n",
       "    <tr>\n",
       "      <th>7</th>\n",
       "      <td>M1L</td>\n",
       "      <td>Scarborough</td>\n",
       "      <td>Clairlea, Golden Mile, Oakridge</td>\n",
       "      <td>43.711112</td>\n",
       "      <td>-79.284577</td>\n",
       "    </tr>\n",
       "    <tr>\n",
       "      <th>8</th>\n",
       "      <td>M1M</td>\n",
       "      <td>Scarborough</td>\n",
       "      <td>Cliffcrest, Cliffside, Scarborough Village West</td>\n",
       "      <td>43.716316</td>\n",
       "      <td>-79.239476</td>\n",
       "    </tr>\n",
       "    <tr>\n",
       "      <th>9</th>\n",
       "      <td>M1N</td>\n",
       "      <td>Scarborough</td>\n",
       "      <td>Birch Cliff, Cliffside West</td>\n",
       "      <td>43.692657</td>\n",
       "      <td>-79.264848</td>\n",
       "    </tr>\n",
       "    <tr>\n",
       "      <th>10</th>\n",
       "      <td>M1P</td>\n",
       "      <td>Scarborough</td>\n",
       "      <td>Dorset Park, Scarborough Town Centre, Wexford ...</td>\n",
       "      <td>43.757410</td>\n",
       "      <td>-79.273304</td>\n",
       "    </tr>\n",
       "    <tr>\n",
       "      <th>11</th>\n",
       "      <td>M1R</td>\n",
       "      <td>Scarborough</td>\n",
       "      <td>Maryvale, Wexford</td>\n",
       "      <td>43.750072</td>\n",
       "      <td>-79.295849</td>\n",
       "    </tr>\n",
       "    <tr>\n",
       "      <th>12</th>\n",
       "      <td>M1S</td>\n",
       "      <td>Scarborough</td>\n",
       "      <td>Agincourt</td>\n",
       "      <td>43.794200</td>\n",
       "      <td>-79.262029</td>\n",
       "    </tr>\n",
       "    <tr>\n",
       "      <th>13</th>\n",
       "      <td>M1T</td>\n",
       "      <td>Scarborough</td>\n",
       "      <td>Clarks Corners, Sullivan, Tam O'Shanter</td>\n",
       "      <td>43.781638</td>\n",
       "      <td>-79.304302</td>\n",
       "    </tr>\n",
       "    <tr>\n",
       "      <th>14</th>\n",
       "      <td>M1V</td>\n",
       "      <td>Scarborough</td>\n",
       "      <td>Agincourt North, L'Amoreaux East, Milliken, St...</td>\n",
       "      <td>43.815252</td>\n",
       "      <td>-79.284577</td>\n",
       "    </tr>\n",
       "  </tbody>\n",
       "</table>\n",
       "</div>"
      ],
      "text/plain": [
       "   PostalCode      Borough                                       Neighborhood  \\\n",
       "0         M1B  Scarborough                                     Rouge, Malvern   \n",
       "1         M1C  Scarborough             Highland Creek, Rouge Hill, Port Union   \n",
       "2         M1E  Scarborough                  Guildwood, Morningside, West Hill   \n",
       "3         M1G  Scarborough                                             Woburn   \n",
       "4         M1H  Scarborough                                          Cedarbrae   \n",
       "5         M1J  Scarborough                                Scarborough Village   \n",
       "6         M1K  Scarborough        East Birchmount Park, Ionview, Kennedy Park   \n",
       "7         M1L  Scarborough                    Clairlea, Golden Mile, Oakridge   \n",
       "8         M1M  Scarborough    Cliffcrest, Cliffside, Scarborough Village West   \n",
       "9         M1N  Scarborough                        Birch Cliff, Cliffside West   \n",
       "10        M1P  Scarborough  Dorset Park, Scarborough Town Centre, Wexford ...   \n",
       "11        M1R  Scarborough                                  Maryvale, Wexford   \n",
       "12        M1S  Scarborough                                          Agincourt   \n",
       "13        M1T  Scarborough            Clarks Corners, Sullivan, Tam O'Shanter   \n",
       "14        M1V  Scarborough  Agincourt North, L'Amoreaux East, Milliken, St...   \n",
       "\n",
       "     Latitude  Longitude  \n",
       "0   43.806686 -79.194353  \n",
       "1   43.784535 -79.160497  \n",
       "2   43.763573 -79.188711  \n",
       "3   43.770992 -79.216917  \n",
       "4   43.773136 -79.239476  \n",
       "5   43.744734 -79.239476  \n",
       "6   43.727929 -79.262029  \n",
       "7   43.711112 -79.284577  \n",
       "8   43.716316 -79.239476  \n",
       "9   43.692657 -79.264848  \n",
       "10  43.757410 -79.273304  \n",
       "11  43.750072 -79.295849  \n",
       "12  43.794200 -79.262029  \n",
       "13  43.781638 -79.304302  \n",
       "14  43.815252 -79.284577  "
      ]
     },
     "execution_count": 9,
     "metadata": {},
     "output_type": "execute_result"
    }
   ],
   "source": [
    "toronto_df.head(15)"
   ]
  },
  {
   "cell_type": "markdown",
   "metadata": {},
   "source": [
    "# Explore and Cluster Toronto Neighborhoods"
   ]
  },
  {
   "cell_type": "code",
   "execution_count": 10,
   "metadata": {},
   "outputs": [
    {
     "name": "stdout",
     "output_type": "stream",
     "text": [
      "The dataframe has 11 boroughs and 103 neighborhoods.\n"
     ]
    }
   ],
   "source": [
    "print(f\"\"\"The dataframe has {len(toronto_df['Borough'].unique()):,} boroughs and {len(toronto_df['Neighborhood'].unique()):,} neighborhoods.\"\"\")"
   ]
  },
  {
   "cell_type": "markdown",
   "metadata": {},
   "source": [
    "Let's get the geographical coordinates of Toronto."
   ]
  },
  {
   "cell_type": "code",
   "execution_count": 11,
   "metadata": {},
   "outputs": [
    {
     "name": "stdout",
     "output_type": "stream",
     "text": [
      "The geograpical coordinate of Toronto are 43.653963, -79.387207.\n"
     ]
    }
   ],
   "source": [
    "address = 'Toronto, Canada'\n",
    "\n",
    "geolocator = Nominatim(user_agent=\"toronto_explorer\")\n",
    "location = geolocator.geocode(address)\n",
    "latitude = location.latitude\n",
    "longitude = location.longitude\n",
    "print('The geograpical coordinate of Toronto are {}, {}.'.format(latitude, longitude))"
   ]
  },
  {
   "cell_type": "markdown",
   "metadata": {},
   "source": [
    "As we did in the New York City lab, let's visualize Toronto and mark the neighborhoods on a map."
   ]
  },
  {
   "cell_type": "code",
   "execution_count": 12,
   "metadata": {},
   "outputs": [
    {
     "data": {
      "text/html": [
       "<div style=\"width:100%;\"><div style=\"position:relative;width:100%;height:0;padding-bottom:60%;\"><iframe src=\"data:text/html;charset=utf-8;base64,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\" style=\"position:absolute;width:100%;height:100%;left:0;top:0;border:none !important;\" allowfullscreen webkitallowfullscreen mozallowfullscreen></iframe></div></div>"
      ],
      "text/plain": [
       "<folium.folium.Map at 0x2c3ab760b70>"
      ]
     },
     "execution_count": 12,
     "metadata": {},
     "output_type": "execute_result"
    }
   ],
   "source": [
    "# create map of Toronto using latitude and longitude values\n",
    "map_toronto = folium.Map(location=[latitude,longitude],zoom_start=10)\n",
    "\n",
    "\n",
    "# add markers to map\n",
    "for lat, lng, borough, neighborhood in zip(toronto_df['Latitude'], toronto_df['Longitude'], toronto_df['Borough'], toronto_df['Neighborhood']):\n",
    "    label = f\"{neighborhood}, {borough}\"\n",
    "    label = folium.Popup(label, parse_html=True)\n",
    "    folium.CircleMarker(\n",
    "        [lat, lng],\n",
    "        radius=5,\n",
    "        popup=label,\n",
    "        color='blue',\n",
    "        fill=True,\n",
    "        fill_color='#3186cc',\n",
    "        fill_opacity=0.7,\n",
    "        parse_html=False).add_to(map_toronto)  \n",
    "    \n",
    "map_toronto"
   ]
  },
  {
   "cell_type": "code",
   "execution_count": 13,
   "metadata": {},
   "outputs": [
    {
     "data": {
      "text/plain": [
       "North York          24\n",
       "Downtown Toronto    18\n",
       "Scarborough         17\n",
       "Etobicoke           12\n",
       "Central Toronto      9\n",
       "West Toronto         6\n",
       "York                 5\n",
       "East Toronto         5\n",
       "East York            5\n",
       "Queen's Park         1\n",
       "Mississauga          1\n",
       "Name: Borough, dtype: int64"
      ]
     },
     "execution_count": 13,
     "metadata": {},
     "output_type": "execute_result"
    }
   ],
   "source": [
    "toronto_df['Borough'].value_counts()"
   ]
  },
  {
   "cell_type": "markdown",
   "metadata": {},
   "source": [
    "<b>For simplicity, let's subset to downtown Toronto</b>"
   ]
  },
  {
   "cell_type": "code",
   "execution_count": 14,
   "metadata": {},
   "outputs": [
    {
     "name": "stdout",
     "output_type": "stream",
     "text": [
      "Now the dataframe has 1 boroughs and 18 neighborhoods.\n"
     ]
    }
   ],
   "source": [
    "toronto_df = toronto_df.loc[toronto_df['Borough'].isin(['Downtown Toronto']),:]\n",
    "toronto_df.reset_index(inplace=True,drop=True)\n",
    "toronto_df.head()\n",
    "print(f\"\"\"Now the dataframe has {len(toronto_df['Borough'].unique()):,} boroughs and {len(toronto_df['Neighborhood'].unique()):,} neighborhoods.\"\"\")"
   ]
  },
  {
   "cell_type": "code",
   "execution_count": 15,
   "metadata": {},
   "outputs": [
    {
     "data": {
      "text/html": [
       "<div style=\"width:100%;\"><div style=\"position:relative;width:100%;height:0;padding-bottom:60%;\"><iframe src=\"data:text/html;charset=utf-8;base64,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\" style=\"position:absolute;width:100%;height:100%;left:0;top:0;border:none !important;\" allowfullscreen webkitallowfullscreen mozallowfullscreen></iframe></div></div>"
      ],
      "text/plain": [
       "<folium.folium.Map at 0x2c3ab999b00>"
      ]
     },
     "execution_count": 15,
     "metadata": {},
     "output_type": "execute_result"
    }
   ],
   "source": [
    "# create map of Toronto using latitude and longitude values\n",
    "map_toronto = folium.Map(location=[latitude,longitude],zoom_start=12)\n",
    "\n",
    "\n",
    "# add markers to map\n",
    "for lat, lng, borough, neighborhood in zip(toronto_df['Latitude'], toronto_df['Longitude'], toronto_df['Borough'], toronto_df['Neighborhood']):\n",
    "    label = f\"{neighborhood}, {borough}\"\n",
    "    label = folium.Popup(label, parse_html=True)\n",
    "    folium.CircleMarker(\n",
    "        [lat, lng],\n",
    "        radius=5,\n",
    "        popup=label,\n",
    "        color='blue',\n",
    "        fill=True,\n",
    "        fill_color='#3186cc',\n",
    "        fill_opacity=0.7,\n",
    "        parse_html=False).add_to(map_toronto)  \n",
    "    \n",
    "map_toronto"
   ]
  },
  {
   "cell_type": "markdown",
   "metadata": {},
   "source": [
    "## Let's follow the lab and have fun with the FourSquare API."
   ]
  },
  {
   "cell_type": "markdown",
   "metadata": {},
   "source": [
    "<b>Define Foursquare Credentials and Version</b>"
   ]
  },
  {
   "cell_type": "code",
   "execution_count": 16,
   "metadata": {},
   "outputs": [],
   "source": [
    "# @hidden_cell\n",
    "CLIENT_ID = 'CN5NRP3FQ3PUY403DEAMPRRA25IZ5SF5YGWGIBK3FJUB5FLG' # your Foursquare ID\n",
    "CLIENT_SECRET = 'AQ3N5JOFGUCUEY1RXYUSIM2ZFBURQRNOSTH43RDPQPE03GYE' # your Foursquare Secret\n",
    "VERSION = '20180604' # Foursquare API version\n",
    "LIMIT = 100"
   ]
  },
  {
   "cell_type": "markdown",
   "metadata": {},
   "source": [
    "Borrow and tweak the getNearbyVenues function from the Exploring NY lab."
   ]
  },
  {
   "cell_type": "code",
   "execution_count": 17,
   "metadata": {},
   "outputs": [],
   "source": [
    "def getNearbyVenues(names, latitudes, longitudes, radius=500):\n",
    "    \"\"\"Loop through the input locations and request venue information from FourSquare.\n",
    "    Output a single dataframe with all of the results.\"\"\"\n",
    "    \n",
    "    venues_dict={}\n",
    "    idx = 0\n",
    "    for name, lat, lng in zip(names, latitudes, longitudes):\n",
    "        print(f'Getting venues near {name}...')\n",
    "            \n",
    "        # create the API request URL\n",
    "        url = 'https://api.foursquare.com/v2/venues/explore?&client_id={}&client_secret={}&v={}&ll={},{}&radius={}&limit={}'.format(\n",
    "            CLIENT_ID, \n",
    "            CLIENT_SECRET, \n",
    "            VERSION, \n",
    "            lat, \n",
    "            lng, \n",
    "            radius, \n",
    "            LIMIT)\n",
    "            \n",
    "        # make the GET request\n",
    "        results = requests.get(url).json()[\"response\"]['groups'][0]['items']\n",
    "        \n",
    "        # return only relevant information for each nearby venue\n",
    "        for venue in results:            \n",
    "            venues_dict.update({idx :\n",
    "                {'Neighborhood':name, \n",
    "                 'Neighborhood Latitude':lat, \n",
    "                 'Neighborhood Longitude':lng, \n",
    "                 'Venue':venue['venue']['name'], \n",
    "                 'Venue ID':venue['venue']['id'],\n",
    "                 'Distance from Neighborhood':venue['venue']['location']['distance'],\n",
    "                 'Venue Latitude':venue['venue']['location']['lat'], \n",
    "                 'Venue Longitude':venue['venue']['location']['lng'],  \n",
    "                 'Venue Category':venue['venue']['categories'][0]['icon']['prefix'].split('/')[-2] # get broader category bin from icon prefix\n",
    "                }})\n",
    "            idx = idx + 1\n",
    "\n",
    "        print(f'    found {len(results):,} results')\n",
    "    # Use helper method for creating a dataframe by rows\n",
    "    nearby_venues = pd.DataFrame.from_dict(venues_dict, orient='index')\n",
    "    \n",
    "    print('---------------------------------------------------------')\n",
    "    print(f'{nearby_venues.shape[0]:,} total venues collected.')\n",
    "    \n",
    "    return(nearby_venues)\n"
   ]
  },
  {
   "cell_type": "markdown",
   "metadata": {},
   "source": [
    "<b>Get a dataframe with all of the venues in our chosen neighborhoods</b>"
   ]
  },
  {
   "cell_type": "code",
   "execution_count": 18,
   "metadata": {},
   "outputs": [
    {
     "name": "stdout",
     "output_type": "stream",
     "text": [
      "Getting venues near Rosedale...\n",
      "    found 4 results\n",
      "Getting venues near Cabbagetown, St. James Town...\n",
      "    found 47 results\n",
      "Getting venues near Church and Wellesley...\n",
      "    found 87 results\n",
      "Getting venues near Harbourfront, Regent Park...\n",
      "    found 47 results\n",
      "Getting venues near Ryerson, Garden District...\n",
      "    found 100 results\n",
      "Getting venues near St. James Town...\n",
      "    found 100 results\n",
      "Getting venues near Berczy Park...\n",
      "    found 55 results\n",
      "Getting venues near Central Bay Street...\n",
      "    found 88 results\n",
      "Getting venues near Adelaide, King, Richmond...\n",
      "    found 100 results\n",
      "Getting venues near Harbourfront East, Toronto Islands, Union Station...\n",
      "    found 100 results\n",
      "Getting venues near Design Exchange, Toronto Dominion Centre...\n",
      "    found 100 results\n",
      "Getting venues near Commerce Court, Victoria Hotel...\n",
      "    found 100 results\n",
      "Getting venues near Harbord, University of Toronto...\n",
      "    found 34 results\n",
      "Getting venues near Chinatown, Grange Park, Kensington Market...\n",
      "    found 100 results\n",
      "Getting venues near CN Tower, Bathurst Quay, Island airport, Harbourfront West, King and Spadina, Railway Lands, South Niagara...\n",
      "    found 15 results\n",
      "Getting venues near Stn A PO Boxes 25 The Esplanade...\n",
      "    found 94 results\n",
      "Getting venues near First Canadian Place, Underground city...\n",
      "    found 100 results\n",
      "Getting venues near Christie...\n",
      "    found 16 results\n",
      "---------------------------------------------------------\n",
      "1,287 total venues collected.\n"
     ]
    }
   ],
   "source": [
    "toronto_venues = getNearbyVenues(names=toronto_df['Neighborhood'],\n",
    "                                latitudes=toronto_df['Latitude'],\n",
    "                                longitudes=toronto_df['Longitude'])"
   ]
  },
  {
   "cell_type": "markdown",
   "metadata": {},
   "source": [
    "<b>De-duplicate, make sure each venue is only assigned to the closest neighborhood</b>\n"
   ]
  },
  {
   "cell_type": "code",
   "execution_count": 20,
   "metadata": {},
   "outputs": [],
   "source": [
    "toronto_venues = toronto_venues.loc[toronto_venues.groupby('Venue ID')['Distance from Neighborhood'].idxmin()]\n"
   ]
  },
  {
   "cell_type": "markdown",
   "metadata": {},
   "source": [
    "<b>Group the results and do some one-hot coding to prepare a neighborhood-level dataframe for k-means clustering</b>"
   ]
  },
  {
   "cell_type": "code",
   "execution_count": 21,
   "metadata": {},
   "outputs": [],
   "source": [
    "# one hot encoding\n",
    "toronto_onehot = pd.get_dummies(toronto_venues[['Venue Category']], prefix=\"\", prefix_sep=\"\")\n",
    "\n",
    "# add neighborhood column back to dataframe\n",
    "toronto_onehot['Neighborhood'] = toronto_venues['Neighborhood'] \n",
    "\n",
    "toronto_grouped = toronto_onehot.groupby('Neighborhood').mean().reset_index()\n",
    "toronto_grouped['n'] = toronto_venues.groupby('Neighborhood').size().reset_index()[0]\n",
    "toronto_grouped['n_scaled'] = toronto_grouped['n']/toronto_grouped['n'].max()\n",
    "toronto_grouped.set_index('Neighborhood',inplace=True)\n",
    "toronto_grouped.drop('n',axis=1,inplace=True)\n",
    "toronto_grouped.head()"
   ]
  },
  {
   "cell_type": "markdown",
   "metadata": {},
   "source": [
    "## Cluster Neighborhoods"
   ]
  },
  {
   "cell_type": "markdown",
   "metadata": {},
   "source": [
    "Run k-means to cluster Toronto neighborhoods into 5 clusters"
   ]
  },
  {
   "cell_type": "code",
   "execution_count": 55,
   "metadata": {},
   "outputs": [
    {
     "name": "stdout",
     "output_type": "stream",
     "text": [
      "[0 2 4 0 3 3 2 3 0 0 0 0 3 0 1 3 0 0]\n"
     ]
    }
   ],
   "source": [
    "# set number of clusters\n",
    "kclusters = 5\n",
    "\n",
    "# run k-means clustering\n",
    "kmeans = KMeans(n_clusters=kclusters, random_state=0).fit(toronto_grouped)\n",
    "\n",
    "# check cluster labels generated for each row in the dataframe\n",
    "print(kmeans.labels_)\n",
    "\n",
    "# add cluster label to dataframe\n",
    "toronto_grouped['Cluster Label']=kmeans.labels_"
   ]
  },
  {
   "cell_type": "code",
   "execution_count": 64,
   "metadata": {},
   "outputs": [
    {
     "name": "stdout",
     "output_type": "stream",
     "text": [
      "  PostalCode           Borough                 Neighborhood   Latitude  \\\n",
      "0        M4W  Downtown Toronto                     Rosedale  43.679563   \n",
      "1        M4X  Downtown Toronto  Cabbagetown, St. James Town  43.667967   \n",
      "2        M4Y  Downtown Toronto         Church and Wellesley  43.665860   \n",
      "3        M5A  Downtown Toronto    Harbourfront, Regent Park  43.654260   \n",
      "4        M5B  Downtown Toronto     Ryerson, Garden District  43.657162   \n",
      "\n",
      "   Longitude  arts_entertainment  building  education      food  nightlife  \\\n",
      "0 -79.377529            0.000000  0.000000   0.000000  0.000000   0.000000   \n",
      "1 -79.367675            0.021277  0.000000   0.000000  0.574468   0.063830   \n",
      "2 -79.383160            0.034483  0.022989   0.000000  0.620690   0.114943   \n",
      "3 -79.360636            0.106383  0.042553   0.000000  0.489362   0.085106   \n",
      "4 -79.378937            0.045977  0.022989   0.011494  0.528736   0.045977   \n",
      "\n",
      "   parks_outdoors     shops    travel  n_scaled  Cluster Label  \n",
      "0        1.000000  0.000000  0.000000      0.04              1  \n",
      "1        0.127660  0.212766  0.000000      0.47              0  \n",
      "2        0.034483  0.149425  0.022989      0.87              3  \n",
      "3        0.063830  0.191489  0.021277      0.47              0  \n",
      "4        0.034483  0.298851  0.011494      0.87              3  \n"
     ]
    }
   ],
   "source": [
    "toronto_merged = pd.merge(left=toronto_df,right=toronto_grouped,left_on='Neighborhood',right_index=True,how='left')\n",
    "print(toronto_merged.head())"
   ]
  },
  {
   "cell_type": "markdown",
   "metadata": {},
   "source": [
    "## Let's look at the clusters and see if we can describe them"
   ]
  },
  {
   "cell_type": "code",
   "execution_count": 80,
   "metadata": {},
   "outputs": [
    {
     "data": {
      "text/html": [
       "<div>\n",
       "<style scoped>\n",
       "    .dataframe tbody tr th:only-of-type {\n",
       "        vertical-align: middle;\n",
       "    }\n",
       "\n",
       "    .dataframe tbody tr th {\n",
       "        vertical-align: top;\n",
       "    }\n",
       "\n",
       "    .dataframe thead th {\n",
       "        text-align: right;\n",
       "    }\n",
       "</style>\n",
       "<table border=\"1\" class=\"dataframe\">\n",
       "  <thead>\n",
       "    <tr style=\"text-align: right;\">\n",
       "      <th></th>\n",
       "      <th>Neighborhood</th>\n",
       "      <th>n_scaled</th>\n",
       "      <th>arts_entertainment</th>\n",
       "      <th>building</th>\n",
       "      <th>education</th>\n",
       "      <th>food</th>\n",
       "      <th>nightlife</th>\n",
       "      <th>parks_outdoors</th>\n",
       "      <th>shops</th>\n",
       "      <th>travel</th>\n",
       "    </tr>\n",
       "  </thead>\n",
       "  <tbody>\n",
       "    <tr>\n",
       "      <th>1</th>\n",
       "      <td>Cabbagetown, St. James Town</td>\n",
       "      <td>0.47</td>\n",
       "      <td>0.021277</td>\n",
       "      <td>0.000000</td>\n",
       "      <td>0.0</td>\n",
       "      <td>0.574468</td>\n",
       "      <td>0.063830</td>\n",
       "      <td>0.127660</td>\n",
       "      <td>0.212766</td>\n",
       "      <td>0.000000</td>\n",
       "    </tr>\n",
       "    <tr>\n",
       "      <th>3</th>\n",
       "      <td>Harbourfront, Regent Park</td>\n",
       "      <td>0.47</td>\n",
       "      <td>0.106383</td>\n",
       "      <td>0.042553</td>\n",
       "      <td>0.0</td>\n",
       "      <td>0.489362</td>\n",
       "      <td>0.085106</td>\n",
       "      <td>0.063830</td>\n",
       "      <td>0.191489</td>\n",
       "      <td>0.021277</td>\n",
       "    </tr>\n",
       "    <tr>\n",
       "      <th>5</th>\n",
       "      <td>St. James Town</td>\n",
       "      <td>0.50</td>\n",
       "      <td>0.080000</td>\n",
       "      <td>0.060000</td>\n",
       "      <td>0.0</td>\n",
       "      <td>0.620000</td>\n",
       "      <td>0.020000</td>\n",
       "      <td>0.020000</td>\n",
       "      <td>0.140000</td>\n",
       "      <td>0.060000</td>\n",
       "    </tr>\n",
       "    <tr>\n",
       "      <th>8</th>\n",
       "      <td>Adelaide, King, Richmond</td>\n",
       "      <td>0.57</td>\n",
       "      <td>0.070175</td>\n",
       "      <td>0.017544</td>\n",
       "      <td>0.0</td>\n",
       "      <td>0.578947</td>\n",
       "      <td>0.105263</td>\n",
       "      <td>0.035088</td>\n",
       "      <td>0.140351</td>\n",
       "      <td>0.052632</td>\n",
       "    </tr>\n",
       "    <tr>\n",
       "      <th>10</th>\n",
       "      <td>Design Exchange, Toronto Dominion Centre</td>\n",
       "      <td>0.30</td>\n",
       "      <td>0.033333</td>\n",
       "      <td>0.000000</td>\n",
       "      <td>0.0</td>\n",
       "      <td>0.700000</td>\n",
       "      <td>0.100000</td>\n",
       "      <td>0.000000</td>\n",
       "      <td>0.033333</td>\n",
       "      <td>0.133333</td>\n",
       "    </tr>\n",
       "    <tr>\n",
       "      <th>11</th>\n",
       "      <td>Commerce Court, Victoria Hotel</td>\n",
       "      <td>0.35</td>\n",
       "      <td>0.028571</td>\n",
       "      <td>0.028571</td>\n",
       "      <td>0.0</td>\n",
       "      <td>0.685714</td>\n",
       "      <td>0.085714</td>\n",
       "      <td>0.000000</td>\n",
       "      <td>0.085714</td>\n",
       "      <td>0.085714</td>\n",
       "    </tr>\n",
       "    <tr>\n",
       "      <th>12</th>\n",
       "      <td>Harbord, University of Toronto</td>\n",
       "      <td>0.34</td>\n",
       "      <td>0.058824</td>\n",
       "      <td>0.058824</td>\n",
       "      <td>0.0</td>\n",
       "      <td>0.617647</td>\n",
       "      <td>0.176471</td>\n",
       "      <td>0.000000</td>\n",
       "      <td>0.088235</td>\n",
       "      <td>0.000000</td>\n",
       "    </tr>\n",
       "    <tr>\n",
       "      <th>15</th>\n",
       "      <td>Stn A PO Boxes 25 The Esplanade</td>\n",
       "      <td>0.48</td>\n",
       "      <td>0.062500</td>\n",
       "      <td>0.020833</td>\n",
       "      <td>0.0</td>\n",
       "      <td>0.562500</td>\n",
       "      <td>0.125000</td>\n",
       "      <td>0.041667</td>\n",
       "      <td>0.187500</td>\n",
       "      <td>0.000000</td>\n",
       "    </tr>\n",
       "    <tr>\n",
       "      <th>16</th>\n",
       "      <td>First Canadian Place, Underground city</td>\n",
       "      <td>0.24</td>\n",
       "      <td>0.041667</td>\n",
       "      <td>0.041667</td>\n",
       "      <td>0.0</td>\n",
       "      <td>0.875000</td>\n",
       "      <td>0.041667</td>\n",
       "      <td>0.000000</td>\n",
       "      <td>0.000000</td>\n",
       "      <td>0.000000</td>\n",
       "    </tr>\n",
       "  </tbody>\n",
       "</table>\n",
       "</div>"
      ],
      "text/plain": [
       "                                Neighborhood  n_scaled  arts_entertainment  \\\n",
       "1                Cabbagetown, St. James Town      0.47            0.021277   \n",
       "3                  Harbourfront, Regent Park      0.47            0.106383   \n",
       "5                             St. James Town      0.50            0.080000   \n",
       "8                   Adelaide, King, Richmond      0.57            0.070175   \n",
       "10  Design Exchange, Toronto Dominion Centre      0.30            0.033333   \n",
       "11            Commerce Court, Victoria Hotel      0.35            0.028571   \n",
       "12            Harbord, University of Toronto      0.34            0.058824   \n",
       "15           Stn A PO Boxes 25 The Esplanade      0.48            0.062500   \n",
       "16    First Canadian Place, Underground city      0.24            0.041667   \n",
       "\n",
       "    building  education      food  nightlife  parks_outdoors     shops  \\\n",
       "1   0.000000        0.0  0.574468   0.063830        0.127660  0.212766   \n",
       "3   0.042553        0.0  0.489362   0.085106        0.063830  0.191489   \n",
       "5   0.060000        0.0  0.620000   0.020000        0.020000  0.140000   \n",
       "8   0.017544        0.0  0.578947   0.105263        0.035088  0.140351   \n",
       "10  0.000000        0.0  0.700000   0.100000        0.000000  0.033333   \n",
       "11  0.028571        0.0  0.685714   0.085714        0.000000  0.085714   \n",
       "12  0.058824        0.0  0.617647   0.176471        0.000000  0.088235   \n",
       "15  0.020833        0.0  0.562500   0.125000        0.041667  0.187500   \n",
       "16  0.041667        0.0  0.875000   0.041667        0.000000  0.000000   \n",
       "\n",
       "      travel  \n",
       "1   0.000000  \n",
       "3   0.021277  \n",
       "5   0.060000  \n",
       "8   0.052632  \n",
       "10  0.133333  \n",
       "11  0.085714  \n",
       "12  0.000000  \n",
       "15  0.000000  \n",
       "16  0.000000  "
      ]
     },
     "execution_count": 80,
     "metadata": {},
     "output_type": "execute_result"
    }
   ],
   "source": [
    "toronto_merged.loc[toronto_merged['Cluster Label']==0,['Neighborhood','n_scaled','arts_entertainment','building','education','food','nightlife','parks_outdoors','shops','travel']]"
   ]
  },
  {
   "cell_type": "code",
   "execution_count": 73,
   "metadata": {},
   "outputs": [
    {
     "data": {
      "text/plain": [
       "n_scaled              0.413333\n",
       "arts_entertainment    0.055859\n",
       "building              0.029999\n",
       "education             0.000000\n",
       "food                  0.633738\n",
       "nightlife             0.089228\n",
       "parks_outdoors        0.032027\n",
       "shops                 0.119932\n",
       "travel                0.039217\n",
       "dtype: float64"
      ]
     },
     "execution_count": 73,
     "metadata": {},
     "output_type": "execute_result"
    }
   ],
   "source": [
    "toronto_merged.loc[toronto_merged['Cluster Label']==0,['n_scaled','arts_entertainment','building','education','food','nightlife','parks_outdoors','shops','travel']].mean()"
   ]
  },
  {
   "cell_type": "markdown",
   "metadata": {},
   "source": [
    "Cluster 0 is made up of medium-sized neighborhoods that have a lot of restaurants"
   ]
  },
  {
   "cell_type": "code",
   "execution_count": 81,
   "metadata": {},
   "outputs": [
    {
     "data": {
      "text/html": [
       "<div>\n",
       "<style scoped>\n",
       "    .dataframe tbody tr th:only-of-type {\n",
       "        vertical-align: middle;\n",
       "    }\n",
       "\n",
       "    .dataframe tbody tr th {\n",
       "        vertical-align: top;\n",
       "    }\n",
       "\n",
       "    .dataframe thead th {\n",
       "        text-align: right;\n",
       "    }\n",
       "</style>\n",
       "<table border=\"1\" class=\"dataframe\">\n",
       "  <thead>\n",
       "    <tr style=\"text-align: right;\">\n",
       "      <th></th>\n",
       "      <th>Neighborhood</th>\n",
       "      <th>n_scaled</th>\n",
       "      <th>arts_entertainment</th>\n",
       "      <th>building</th>\n",
       "      <th>education</th>\n",
       "      <th>food</th>\n",
       "      <th>nightlife</th>\n",
       "      <th>parks_outdoors</th>\n",
       "      <th>shops</th>\n",
       "      <th>travel</th>\n",
       "    </tr>\n",
       "  </thead>\n",
       "  <tbody>\n",
       "    <tr>\n",
       "      <th>0</th>\n",
       "      <td>Rosedale</td>\n",
       "      <td>0.04</td>\n",
       "      <td>0.0</td>\n",
       "      <td>0.0</td>\n",
       "      <td>0.0</td>\n",
       "      <td>0.0</td>\n",
       "      <td>0.0</td>\n",
       "      <td>1.0</td>\n",
       "      <td>0.0</td>\n",
       "      <td>0.0</td>\n",
       "    </tr>\n",
       "  </tbody>\n",
       "</table>\n",
       "</div>"
      ],
      "text/plain": [
       "  Neighborhood  n_scaled  arts_entertainment  building  education  food  \\\n",
       "0     Rosedale      0.04                 0.0       0.0        0.0   0.0   \n",
       "\n",
       "   nightlife  parks_outdoors  shops  travel  \n",
       "0        0.0             1.0    0.0     0.0  "
      ]
     },
     "execution_count": 81,
     "metadata": {},
     "output_type": "execute_result"
    }
   ],
   "source": [
    "toronto_merged.loc[toronto_merged['Cluster Label']==1,['Neighborhood','n_scaled','arts_entertainment','building','education','food','nightlife','parks_outdoors','shops','travel']]"
   ]
  },
  {
   "cell_type": "markdown",
   "metadata": {},
   "source": [
    "Cluster 1 is a single neighborhood made up solely of a few parks/outdoors venues."
   ]
  },
  {
   "cell_type": "code",
   "execution_count": 79,
   "metadata": {},
   "outputs": [
    {
     "data": {
      "text/html": [
       "<div>\n",
       "<style scoped>\n",
       "    .dataframe tbody tr th:only-of-type {\n",
       "        vertical-align: middle;\n",
       "    }\n",
       "\n",
       "    .dataframe tbody tr th {\n",
       "        vertical-align: top;\n",
       "    }\n",
       "\n",
       "    .dataframe thead th {\n",
       "        text-align: right;\n",
       "    }\n",
       "</style>\n",
       "<table border=\"1\" class=\"dataframe\">\n",
       "  <thead>\n",
       "    <tr style=\"text-align: right;\">\n",
       "      <th></th>\n",
       "      <th>Neighborhood</th>\n",
       "      <th>n_scaled</th>\n",
       "      <th>arts_entertainment</th>\n",
       "      <th>building</th>\n",
       "      <th>education</th>\n",
       "      <th>food</th>\n",
       "      <th>nightlife</th>\n",
       "      <th>parks_outdoors</th>\n",
       "      <th>shops</th>\n",
       "      <th>travel</th>\n",
       "    </tr>\n",
       "  </thead>\n",
       "  <tbody>\n",
       "    <tr>\n",
       "      <th>6</th>\n",
       "      <td>Berczy Park</td>\n",
       "      <td>0.06</td>\n",
       "      <td>0.0</td>\n",
       "      <td>0.0</td>\n",
       "      <td>0.0</td>\n",
       "      <td>0.333333</td>\n",
       "      <td>0.166667</td>\n",
       "      <td>0.166667</td>\n",
       "      <td>0.166667</td>\n",
       "      <td>0.166667</td>\n",
       "    </tr>\n",
       "    <tr>\n",
       "      <th>17</th>\n",
       "      <td>Christie</td>\n",
       "      <td>0.16</td>\n",
       "      <td>0.0</td>\n",
       "      <td>0.0</td>\n",
       "      <td>0.0</td>\n",
       "      <td>0.437500</td>\n",
       "      <td>0.062500</td>\n",
       "      <td>0.125000</td>\n",
       "      <td>0.375000</td>\n",
       "      <td>0.000000</td>\n",
       "    </tr>\n",
       "  </tbody>\n",
       "</table>\n",
       "</div>"
      ],
      "text/plain": [
       "   Neighborhood  n_scaled  arts_entertainment  building  education      food  \\\n",
       "6   Berczy Park      0.06                 0.0       0.0        0.0  0.333333   \n",
       "17     Christie      0.16                 0.0       0.0        0.0  0.437500   \n",
       "\n",
       "    nightlife  parks_outdoors     shops    travel  \n",
       "6    0.166667        0.166667  0.166667  0.166667  \n",
       "17   0.062500        0.125000  0.375000  0.000000  "
      ]
     },
     "execution_count": 79,
     "metadata": {},
     "output_type": "execute_result"
    }
   ],
   "source": [
    "toronto_merged.loc[toronto_merged['Cluster Label']==2,['Neighborhood','n_scaled','arts_entertainment','building','education','food','nightlife','parks_outdoors','shops','travel']]"
   ]
  },
  {
   "cell_type": "code",
   "execution_count": 75,
   "metadata": {},
   "outputs": [
    {
     "data": {
      "text/plain": [
       "n_scaled              0.110000\n",
       "arts_entertainment    0.000000\n",
       "building              0.000000\n",
       "education             0.000000\n",
       "food                  0.385417\n",
       "nightlife             0.114583\n",
       "parks_outdoors        0.145833\n",
       "shops                 0.270833\n",
       "travel                0.083333\n",
       "dtype: float64"
      ]
     },
     "execution_count": 75,
     "metadata": {},
     "output_type": "execute_result"
    }
   ],
   "source": [
    "toronto_merged.loc[toronto_merged['Cluster Label']==2,['n_scaled','arts_entertainment','building','education','food','nightlife','parks_outdoors','shops','travel']].mean()"
   ]
  },
  {
   "cell_type": "markdown",
   "metadata": {},
   "source": [
    "Cluster 2 is made up of small neighborhoods with just a few venues, mostly restuarants and shops. "
   ]
  },
  {
   "cell_type": "code",
   "execution_count": 82,
   "metadata": {},
   "outputs": [
    {
     "data": {
      "text/html": [
       "<div>\n",
       "<style scoped>\n",
       "    .dataframe tbody tr th:only-of-type {\n",
       "        vertical-align: middle;\n",
       "    }\n",
       "\n",
       "    .dataframe tbody tr th {\n",
       "        vertical-align: top;\n",
       "    }\n",
       "\n",
       "    .dataframe thead th {\n",
       "        text-align: right;\n",
       "    }\n",
       "</style>\n",
       "<table border=\"1\" class=\"dataframe\">\n",
       "  <thead>\n",
       "    <tr style=\"text-align: right;\">\n",
       "      <th></th>\n",
       "      <th>Neighborhood</th>\n",
       "      <th>n_scaled</th>\n",
       "      <th>arts_entertainment</th>\n",
       "      <th>building</th>\n",
       "      <th>education</th>\n",
       "      <th>food</th>\n",
       "      <th>nightlife</th>\n",
       "      <th>parks_outdoors</th>\n",
       "      <th>shops</th>\n",
       "      <th>travel</th>\n",
       "    </tr>\n",
       "  </thead>\n",
       "  <tbody>\n",
       "    <tr>\n",
       "      <th>2</th>\n",
       "      <td>Church and Wellesley</td>\n",
       "      <td>0.87</td>\n",
       "      <td>0.034483</td>\n",
       "      <td>0.022989</td>\n",
       "      <td>0.000000</td>\n",
       "      <td>0.620690</td>\n",
       "      <td>0.114943</td>\n",
       "      <td>0.034483</td>\n",
       "      <td>0.149425</td>\n",
       "      <td>0.022989</td>\n",
       "    </tr>\n",
       "    <tr>\n",
       "      <th>4</th>\n",
       "      <td>Ryerson, Garden District</td>\n",
       "      <td>0.87</td>\n",
       "      <td>0.045977</td>\n",
       "      <td>0.022989</td>\n",
       "      <td>0.011494</td>\n",
       "      <td>0.528736</td>\n",
       "      <td>0.045977</td>\n",
       "      <td>0.034483</td>\n",
       "      <td>0.298851</td>\n",
       "      <td>0.011494</td>\n",
       "    </tr>\n",
       "    <tr>\n",
       "      <th>7</th>\n",
       "      <td>Central Bay Street</td>\n",
       "      <td>0.70</td>\n",
       "      <td>0.014286</td>\n",
       "      <td>0.028571</td>\n",
       "      <td>0.000000</td>\n",
       "      <td>0.828571</td>\n",
       "      <td>0.028571</td>\n",
       "      <td>0.014286</td>\n",
       "      <td>0.085714</td>\n",
       "      <td>0.000000</td>\n",
       "    </tr>\n",
       "    <tr>\n",
       "      <th>9</th>\n",
       "      <td>Harbourfront East, Toronto Islands, Union Station</td>\n",
       "      <td>0.89</td>\n",
       "      <td>0.179775</td>\n",
       "      <td>0.033708</td>\n",
       "      <td>0.000000</td>\n",
       "      <td>0.505618</td>\n",
       "      <td>0.056180</td>\n",
       "      <td>0.101124</td>\n",
       "      <td>0.067416</td>\n",
       "      <td>0.056180</td>\n",
       "    </tr>\n",
       "    <tr>\n",
       "      <th>13</th>\n",
       "      <td>Chinatown, Grange Park, Kensington Market</td>\n",
       "      <td>1.00</td>\n",
       "      <td>0.010000</td>\n",
       "      <td>0.010000</td>\n",
       "      <td>0.000000</td>\n",
       "      <td>0.680000</td>\n",
       "      <td>0.070000</td>\n",
       "      <td>0.010000</td>\n",
       "      <td>0.200000</td>\n",
       "      <td>0.020000</td>\n",
       "    </tr>\n",
       "  </tbody>\n",
       "</table>\n",
       "</div>"
      ],
      "text/plain": [
       "                                         Neighborhood  n_scaled  \\\n",
       "2                                Church and Wellesley      0.87   \n",
       "4                            Ryerson, Garden District      0.87   \n",
       "7                                  Central Bay Street      0.70   \n",
       "9   Harbourfront East, Toronto Islands, Union Station      0.89   \n",
       "13          Chinatown, Grange Park, Kensington Market      1.00   \n",
       "\n",
       "    arts_entertainment  building  education      food  nightlife  \\\n",
       "2             0.034483  0.022989   0.000000  0.620690   0.114943   \n",
       "4             0.045977  0.022989   0.011494  0.528736   0.045977   \n",
       "7             0.014286  0.028571   0.000000  0.828571   0.028571   \n",
       "9             0.179775  0.033708   0.000000  0.505618   0.056180   \n",
       "13            0.010000  0.010000   0.000000  0.680000   0.070000   \n",
       "\n",
       "    parks_outdoors     shops    travel  \n",
       "2         0.034483  0.149425  0.022989  \n",
       "4         0.034483  0.298851  0.011494  \n",
       "7         0.014286  0.085714  0.000000  \n",
       "9         0.101124  0.067416  0.056180  \n",
       "13        0.010000  0.200000  0.020000  "
      ]
     },
     "execution_count": 82,
     "metadata": {},
     "output_type": "execute_result"
    }
   ],
   "source": [
    "toronto_merged.loc[toronto_merged['Cluster Label']==3,['Neighborhood','n_scaled','arts_entertainment','building','education','food','nightlife','parks_outdoors','shops','travel']]"
   ]
  },
  {
   "cell_type": "code",
   "execution_count": 83,
   "metadata": {},
   "outputs": [
    {
     "data": {
      "text/plain": [
       "n_scaled              0.866000\n",
       "arts_entertainment    0.056904\n",
       "building              0.023651\n",
       "education             0.002299\n",
       "food                  0.632723\n",
       "nightlife             0.063134\n",
       "parks_outdoors        0.038875\n",
       "shops                 0.160281\n",
       "travel                0.022133\n",
       "dtype: float64"
      ]
     },
     "execution_count": 83,
     "metadata": {},
     "output_type": "execute_result"
    }
   ],
   "source": [
    "toronto_merged.loc[toronto_merged['Cluster Label']==3,['Neighborhood','n_scaled','arts_entertainment','building','education','food','nightlife','parks_outdoors','shops','travel']].mean()"
   ]
  },
  {
   "cell_type": "markdown",
   "metadata": {},
   "source": [
    "Cluster 3 is made up of large neighborhoods with lots of restaurants and shops"
   ]
  },
  {
   "cell_type": "code",
   "execution_count": 84,
   "metadata": {},
   "outputs": [
    {
     "data": {
      "text/html": [
       "<div>\n",
       "<style scoped>\n",
       "    .dataframe tbody tr th:only-of-type {\n",
       "        vertical-align: middle;\n",
       "    }\n",
       "\n",
       "    .dataframe tbody tr th {\n",
       "        vertical-align: top;\n",
       "    }\n",
       "\n",
       "    .dataframe thead th {\n",
       "        text-align: right;\n",
       "    }\n",
       "</style>\n",
       "<table border=\"1\" class=\"dataframe\">\n",
       "  <thead>\n",
       "    <tr style=\"text-align: right;\">\n",
       "      <th></th>\n",
       "      <th>Neighborhood</th>\n",
       "      <th>n_scaled</th>\n",
       "      <th>arts_entertainment</th>\n",
       "      <th>building</th>\n",
       "      <th>education</th>\n",
       "      <th>food</th>\n",
       "      <th>nightlife</th>\n",
       "      <th>parks_outdoors</th>\n",
       "      <th>shops</th>\n",
       "      <th>travel</th>\n",
       "    </tr>\n",
       "  </thead>\n",
       "  <tbody>\n",
       "    <tr>\n",
       "      <th>14</th>\n",
       "      <td>CN Tower, Bathurst Quay, Island airport, Harbo...</td>\n",
       "      <td>0.15</td>\n",
       "      <td>0.0</td>\n",
       "      <td>0.0</td>\n",
       "      <td>0.0</td>\n",
       "      <td>0.0</td>\n",
       "      <td>0.133333</td>\n",
       "      <td>0.133333</td>\n",
       "      <td>0.066667</td>\n",
       "      <td>0.666667</td>\n",
       "    </tr>\n",
       "  </tbody>\n",
       "</table>\n",
       "</div>"
      ],
      "text/plain": [
       "                                         Neighborhood  n_scaled  \\\n",
       "14  CN Tower, Bathurst Quay, Island airport, Harbo...      0.15   \n",
       "\n",
       "    arts_entertainment  building  education  food  nightlife  parks_outdoors  \\\n",
       "14                 0.0       0.0        0.0   0.0   0.133333        0.133333   \n",
       "\n",
       "       shops    travel  \n",
       "14  0.066667  0.666667  "
      ]
     },
     "execution_count": 84,
     "metadata": {},
     "output_type": "execute_result"
    }
   ],
   "source": [
    "toronto_merged.loc[toronto_merged['Cluster Label']==4,['Neighborhood','n_scaled','arts_entertainment','building','education','food','nightlife','parks_outdoors','shops','travel']]"
   ]
  },
  {
   "cell_type": "markdown",
   "metadata": {},
   "source": [
    "Cluster 4 is just one neighborhood - looks like we successfully identified the airport!"
   ]
  },
  {
   "cell_type": "code",
   "execution_count": 87,
   "metadata": {},
   "outputs": [],
   "source": [
    "cluster_descriptions = {\n",
    "    0:'Medium neighborhood',\n",
    "    1:'Parks and outdoors',\n",
    "    2:'Small neighborhood',\n",
    "    3:'Large neighborhood',\n",
    "    4:'Airport'}\n",
    "toronto_merged['Cluster Description'] = toronto_merged['Cluster Label'].map(cluster_descriptions)"
   ]
  },
  {
   "cell_type": "code",
   "execution_count": 92,
   "metadata": {},
   "outputs": [
    {
     "data": {
      "text/html": [
       "<div style=\"width:100%;\"><div style=\"position:relative;width:100%;height:0;padding-bottom:60%;\"><iframe src=\"data:text/html;charset=utf-8;base64,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\" style=\"position:absolute;width:100%;height:100%;left:0;top:0;border:none !important;\" allowfullscreen webkitallowfullscreen mozallowfullscreen></iframe></div></div>"
      ],
      "text/plain": [
       "<folium.folium.Map at 0x2c3ac4faa90>"
      ]
     },
     "execution_count": 92,
     "metadata": {},
     "output_type": "execute_result"
    }
   ],
   "source": [
    "# create map\n",
    "map_clusters = folium.Map(location=[latitude, longitude], zoom_start=12)\n",
    "\n",
    "# set color scheme for the clusters\n",
    "x = np.arange(kclusters)\n",
    "ys = [i + x + (i*x)**2 for i in range(kclusters)]\n",
    "colors_array = cm.rainbow(np.linspace(0, 1, len(ys)))\n",
    "rainbow = [colors.rgb2hex(i) for i in colors_array]\n",
    "\n",
    "# add markers to the map\n",
    "markers_colors = []\n",
    "for lat, lon, poi, cluster, cluster_desc in zip(toronto_merged['Latitude'], toronto_merged['Longitude'], toronto_merged['PostalCode'], toronto_merged['Cluster Label'], toronto_merged['Cluster Description']):\n",
    "    label = folium.Popup(str(poi) + '\\n' + str(cluster_desc), parse_html=True)\n",
    "    folium.CircleMarker(\n",
    "        [lat, lon],\n",
    "        radius=5,\n",
    "        popup=label,\n",
    "        color=rainbow[cluster-1],\n",
    "        fill=True,\n",
    "        fill_color=rainbow[cluster-1],\n",
    "        fill_opacity=0.7).add_to(map_clusters)\n",
    "       \n",
    "map_clusters"
   ]
  },
  {
   "cell_type": "code",
   "execution_count": null,
   "metadata": {},
   "outputs": [],
   "source": []
  }
 ],
 "metadata": {
  "kernelspec": {
   "display_name": "Python 3",
   "language": "python",
   "name": "python3"
  },
  "language_info": {
   "codemirror_mode": {
    "name": "ipython",
    "version": 3
   },
   "file_extension": ".py",
   "mimetype": "text/x-python",
   "name": "python",
   "nbconvert_exporter": "python",
   "pygments_lexer": "ipython3",
   "version": "3.7.1"
  }
 },
 "nbformat": 4,
 "nbformat_minor": 2
}
